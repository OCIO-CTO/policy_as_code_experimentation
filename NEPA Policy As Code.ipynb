{
 "cells": [
  {
   "cell_type": "code",
   "execution_count": 10,
   "metadata": {
    "application/vnd.databricks.v1+cell": {
     "cellMetadata": {
      "byteLimit": 2048000,
      "rowLimit": 10000
     },
     "inputWidgets": {},
     "nuid": "78841173-1f59-4245-adfc-a9eaee3e444b",
     "showTitle": false,
     "tableResultSettingsMap": {},
     "title": ""
    }
   },
   "outputs": [
    {
     "name": "stdout",
     "output_type": "stream",
     "text": [
      "Defaulting to user installation because normal site-packages is not writeable\n",
      "Requirement already satisfied: xmltodict in c:\\users\\timothy.baxter\\appdata\\roaming\\python\\python312\\site-packages (0.14.2)\n",
      "Note: you may need to restart the kernel to use updated packages.\n"
     ]
    },
    {
     "name": "stderr",
     "output_type": "stream",
     "text": [
      "\n",
      "[notice] A new release of pip is available: 25.0.1 -> 25.2\n",
      "[notice] To update, run: python.exe -m pip install --upgrade pip\n"
     ]
    }
   ],
   "source": [
    "%pip install xmltodict\n",
    "import xmltodict\n",
    "\n",
    "# Read and parse the XML file\n",
    "with open(\"2025-12326.xml\", \"r\", encoding=\"utf-8\", errors=\"replace\") as file:\n",
    "    xml_content = file.read()\n",
    "\n",
    "policy_dict = xmltodict.parse(xml_content)"
   ]
  },
  {
   "cell_type": "code",
   "execution_count": null,
   "metadata": {},
   "outputs": [
    {
     "ename": "NameError",
     "evalue": "name 'json' is not defined",
     "output_type": "error",
     "traceback": [
      "\u001b[31m---------------------------------------------------------------------------\u001b[39m",
      "\u001b[31mNameError\u001b[39m                                 Traceback (most recent call last)",
      "\u001b[36mCell\u001b[39m\u001b[36m \u001b[39m\u001b[32mIn[11]\u001b[39m\u001b[32m, line 39\u001b[39m\n\u001b[32m     36\u001b[39m         extracted_rules.append(rule)\n\u001b[32m     38\u001b[39m \u001b[38;5;66;03m# Display the extracted rules as JSON\u001b[39;00m\n\u001b[32m---> \u001b[39m\u001b[32m39\u001b[39m \u001b[38;5;28mprint\u001b[39m(\u001b[43mjson\u001b[49m.dumps(extracted_rules, indent=\u001b[32m2\u001b[39m))\n\u001b[32m     41\u001b[39m \u001b[38;5;66;03m# Summary: This cell refines extraction by scanning for regulatory keywords and attempts to capture citations and effective dates for each rule. You can further refine logic or prompt AI to translate 'text' into executable code logic.\u001b[39;00m\n",
      "\u001b[31mNameError\u001b[39m: name 'json' is not defined"
     ]
    }
   ],
   "source": [
    "# Refined extraction logic for regulatory requirements and metadata from NEPA XML\n",
    "import re\n",
    "import json\n",
    "\n",
    "# Helper function to identify requirement-like sentences\n",
    "requirement_keywords = [\n",
    "    'must', 'shall', 'required', 'mandate', 'prohibit', 'forbid', 'ensure', 'direct', 'provision', 'deadline', 'limit', 'review', 'prepare', 'submit', 'report', 'determine', 'specify', 'clarify', 'add', 'remove', 'revise', 'publish', 'provide', 'consider', 'apply', 'adopt', 'implement', 'establish', 'define', 'categorical exclusion', 'environmental assessment', 'environmental impact statement'\n",
    "]\n",
    "\n",
    "# Flatten paragraphs from SUPLINF\n",
    "suplinf = policy_dict['RULE']['SUPLINF']\n",
    "paragraphs = []\n",
    "for p in suplinf.get('P', []):\n",
    "    if isinstance(p, str) and p.strip():\n",
    "        paragraphs.append(p.strip())\n",
    "\n",
    "# Extract requirements and decision points\n",
    "extracted_rules = []\n",
    "for idx, para in enumerate(paragraphs):\n",
    "    # Check for requirement keywords\n",
    "    if any(kw in para.lower() for kw in requirement_keywords):\n",
    "        # Try to extract citation and effective date from context\n",
    "        citation_match = re.search(r'(\\d+\\s*U\\.S\\.C\\.\\s*\\d+[a-zA-Z0-9\\(\\)]*)', para)\n",
    "        citation = citation_match.group(0) if citation_match else None\n",
    "        # Use known effective date from context if not found\n",
    "        effective_date = '2025-04-11'\n",
    "        # Build rule\n",
    "        rule = {\n",
    "            \"id\": f\"rule_{idx+1}\",\n",
    "            \"text\": para,\n",
    "            \"logic\": \"To be refined (AI-assisted translation)\",\n",
    "            \"metadata\": {\n",
    "                \"citation\": citation,\n",
    "                \"effective_date\": effective_date\n",
    "            }\n",
    "        }\n",
    "        extracted_rules.append(rule)\n",
    "\n",
    "# Display the extracted rules as JSON\n",
    "print(json.dumps(extracted_rules, indent=2))\n",
    "\n",
    "# Summary: This cell refines extraction by scanning for regulatory keywords and attempts to capture citations and effective dates for each rule. You can further refine logic or prompt AI to translate 'text' into executable code logic."
   ]
  }
 ],
 "metadata": {
  "application/vnd.databricks.v1+notebook": {
   "computePreferences": null,
   "dashboards": [],
   "environmentMetadata": {
    "base_environment": "",
    "environment_version": "3"
   },
   "inputWidgetPreferences": null,
   "language": "python",
   "notebookMetadata": {
    "pythonIndentUnit": 4
   },
   "notebookName": "NEPA Policy As Code",
   "widgets": {}
  },
  "kernelspec": {
   "display_name": "Python 3",
   "language": "python",
   "name": "python3"
  },
  "language_info": {
   "codemirror_mode": {
    "name": "ipython",
    "version": 3
   },
   "file_extension": ".py",
   "mimetype": "text/x-python",
   "name": "python",
   "nbconvert_exporter": "python",
   "pygments_lexer": "ipython3",
   "version": "3.12.0"
  }
 },
 "nbformat": 4,
 "nbformat_minor": 0
}
